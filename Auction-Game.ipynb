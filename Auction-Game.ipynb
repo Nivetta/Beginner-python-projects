{
 "cells": [
  {
   "cell_type": "code",
   "execution_count": null,
   "metadata": {},
   "outputs": [],
   "source": [
    "print(\"SILENT AUCTION\".center(30,\"*\"))\n",
    "ch=True\n",
    "bidders_list={}\n",
    "while ch:\n",
    "    name=input(\"Please enter bidder's name : \")\n",
    "    bid=int(input(\"Please anter bid : \"))\n",
    "    bidders_list[name]=bid\n",
    "    ch=input(\"Are there more bidders? (Y/N) \")\n",
    "    if ch.lower()==\"n\":\n",
    "        ch=False\n",
    "        print(\"\\n\"*10)\n",
    "    elif ch.lower()==\"y\":\n",
    "        ch=True\n",
    "        print(\"\\n\"*10)\n",
    "    else:\n",
    "        print(\"INVALID CHOICE\")\n",
    "    \n",
    "\n",
    "def find_max_bid(bidders_list):\n",
    "    my_list=[]\n",
    "    for key in bidders_list:\n",
    "        my_list.append(bidders_list[key])\n",
    "    highest=max(my_list)\n",
    "    print(\"The highest bid is : \"+str(highest))\n",
    "    for i in bidders_list:\n",
    "        if bidders_list[i]==highest:\n",
    "            per_name=i\n",
    "    print(\"Person \"+per_name+\" wont the bid\")\n",
    "find_max_bid(bidders_list)\n"
   ]
  }
 ],
 "metadata": {
  "kernelspec": {
   "display_name": "Python 3",
   "language": "python",
   "name": "python3"
  },
  "language_info": {
   "codemirror_mode": {
    "name": "ipython",
    "version": 3
   },
   "file_extension": ".py",
   "mimetype": "text/x-python",
   "name": "python",
   "nbconvert_exporter": "python",
   "pygments_lexer": "ipython3",
   "version": "3.7.6"
  }
 },
 "nbformat": 4,
 "nbformat_minor": 4
}
